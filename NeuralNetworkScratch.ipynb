{
  "nbformat": 4,
  "nbformat_minor": 0,
  "metadata": {
    "colab": {
      "name": "NeuralNetworkScratch.ipynb",
      "provenance": [],
      "authorship_tag": "ABX9TyNJs4pGHhQU5o4O18GttEzu",
      "include_colab_link": true
    },
    "kernelspec": {
      "name": "python3",
      "display_name": "Python 3"
    }
  },
  "cells": [
    {
      "cell_type": "markdown",
      "metadata": {
        "id": "view-in-github",
        "colab_type": "text"
      },
      "source": [
        "<a href=\"https://colab.research.google.com/github/QU01/Neural-Network-With-Pure-Numpy/blob/main/NeuralNetworkScratch.ipynb\" target=\"_parent\"><img src=\"https://colab.research.google.com/assets/colab-badge.svg\" alt=\"Open In Colab\"/></a>"
      ]
    },
    {
      "cell_type": "markdown",
      "metadata": {
        "id": "bKOQe4t7Seje"
      },
      "source": [
        "#Import Libraries"
      ]
    },
    {
      "cell_type": "code",
      "metadata": {
        "id": "JEQ6_z7-4TPC"
      },
      "source": [
        "import numpy as np\n",
        "import pandas as pd\n",
        "import matplotlib.pyplot as plt\n"
      ],
      "execution_count": 4,
      "outputs": []
    },
    {
      "cell_type": "markdown",
      "metadata": {
        "id": "v7VetOehBgXy"
      },
      "source": [
        "#Sigmoid Functionn"
      ]
    },
    {
      "cell_type": "code",
      "metadata": {
        "id": "huSEKf-5_Nol"
      },
      "source": [
        "input = np.linspace(-10,10,100)"
      ],
      "execution_count": 5,
      "outputs": []
    },
    {
      "cell_type": "code",
      "metadata": {
        "id": "Y-YUR0xLBOrU"
      },
      "source": [
        "def sigmoid(X):\n",
        "\n",
        "  val = 1/(1+np.exp(-X))\n",
        "  \n",
        "  return val"
      ],
      "execution_count": 6,
      "outputs": []
    },
    {
      "cell_type": "code",
      "metadata": {
        "id": "kDQyyROYBXQI"
      },
      "source": [
        "output = sigmoid(input)"
      ],
      "execution_count": 7,
      "outputs": []
    },
    {
      "cell_type": "code",
      "metadata": {
        "colab": {
          "base_uri": "https://localhost:8080/",
          "height": 312
        },
        "id": "M-c70AT-4AI0",
        "outputId": "1f659e31-ca0c-4c3f-e3bb-c954c8cfed7d"
      },
      "source": [
        "plt.plot(input,output)\n",
        "plt.xlabel(\"Input\")\n",
        "plt.ylabel(\"Output\")\n",
        "plt.title(\"Sigmoid Function\")"
      ],
      "execution_count": 8,
      "outputs": [
        {
          "output_type": "execute_result",
          "data": {
            "text/plain": [
              "Text(0.5, 1.0, 'Sigmoid Function')"
            ]
          },
          "metadata": {
            "tags": []
          },
          "execution_count": 8
        },
        {
          "output_type": "display_data",
          "data": {
            "image/png": "[encoded data removed]",
            "text/plain": [
              "<Figure size 432x288 with 1 Axes>"
            ]
          },
          "metadata": {
            "tags": [],
            "needs_background": "light"
          }
        }
      ]
    },
    {
      "cell_type": "markdown",
      "metadata": {
        "id": "pyQNFSSYC1yA"
      },
      "source": [
        "#Neural Network"
      ]
    },
    {
      "cell_type": "code",
      "metadata": {
        "colab": {
          "base_uri": "https://localhost:8080/"
        },
        "id": "Ex6PFK-1C3ol",
        "outputId": "857335de-3e0c-4c67-f907-6d99cd04d05b"
      },
      "source": [
        "input_features = np.array([[0,0],\n",
        "                           [0,1],\n",
        "                           [1,0],\n",
        "                           [1,1]])\n",
        "\n",
        "print(input_features.shape)\n",
        "\n",
        "input_features"
      ],
      "execution_count": 29,
      "outputs": [
        {
          "output_type": "stream",
          "text": [
            "(4, 2)\n"
          ],
          "name": "stdout"
        },
        {
          "output_type": "execute_result",
          "data": {
            "text/plain": [
              "array([[0, 0],\n",
              "       [0, 1],\n",
              "       [1, 0],\n",
              "       [1, 1]])"
            ]
          },
          "metadata": {
            "tags": []
          },
          "execution_count": 29
        }
      ]
    },
    {
      "cell_type": "code",
      "metadata": {
        "colab": {
          "base_uri": "https://localhost:8080/"
        },
        "id": "tTBY0OePLTco",
        "outputId": "4c8dc37e-2b61-4c56-bf77-a50cd853a1f6"
      },
      "source": [
        "target_output = np.array([[0],\n",
        "                         [1],\n",
        "                         [1],\n",
        "                         [1]])\n",
        "\n",
        "target_output"
      ],
      "execution_count": 30,
      "outputs": [
        {
          "output_type": "execute_result",
          "data": {
            "text/plain": [
              "array([[0],\n",
              "       [1],\n",
              "       [1],\n",
              "       [1]])"
            ]
          },
          "metadata": {
            "tags": []
          },
          "execution_count": 30
        }
      ]
    },
    {
      "cell_type": "code",
      "metadata": {
        "colab": {
          "base_uri": "https://localhost:8080/"
        },
        "id": "4ZF26AjSLqay",
        "outputId": "576c2744-e348-4689-8d53-331afd95c6df"
      },
      "source": [
        "#Assign Weights\n",
        "\n",
        "weights = np.array([[0.1],[0.2]])\n",
        "\n",
        "weights"
      ],
      "execution_count": 47,
      "outputs": [
        {
          "output_type": "execute_result",
          "data": {
            "text/plain": [
              "array([[0.1],\n",
              "       [0.2]])"
            ]
          },
          "metadata": {
            "tags": []
          },
          "execution_count": 47
        }
      ]
    },
    {
      "cell_type": "code",
      "metadata": {
        "id": "aqWwsdUEL_xZ"
      },
      "source": [
        "bias = 0.25\n",
        "\n",
        "lr = 0.05"
      ],
      "execution_count": 46,
      "outputs": []
    },
    {
      "cell_type": "code",
      "metadata": {
        "id": "sKwVy77UMNQd"
      },
      "source": [
        "def sigmoid_der(x):\n",
        "\n",
        "  return sigmoid(x)*(1-sigmoid(x))\n"
      ],
      "execution_count": 33,
      "outputs": []
    },
    {
      "cell_type": "markdown",
      "metadata": {
        "id": "BZMeLCr1MZAi"
      },
      "source": [
        "#Training Network"
      ]
    },
    {
      "cell_type": "code",
      "metadata": {
        "id": "iKqQN1GYMX4U"
      },
      "source": [
        "for epoch in range(10000):\n",
        "\n",
        "  inputs = input_features\n",
        "\n",
        "  #Forward Propagation\n",
        "\n",
        "  in_o = np.dot(inputs, weights) + bias\n",
        "\n",
        "  out_o = sigmoid(in_o)\n",
        "\n",
        "  #Backward Propagation\n",
        "\n",
        "  #Error\n",
        "\n",
        "  error = out_o - target_output\n",
        "\n",
        "  x = error.sum() \n",
        "  print(x)\n",
        "\n",
        "  #Calculating Derivative\n",
        "\n",
        "  derror_outo = error\n",
        "  derror_dino = sigmoid_der(out_o)\n",
        "\n",
        "  deriv = derror_outo * derror_dino\n",
        "\n",
        "  inputs = input_features.T \n",
        "\n",
        "  deriv_final = np.dot(inputs, deriv)\n",
        "\n",
        "  weights -= lr*deriv_final\n",
        "\n",
        "  for i in deriv:\n",
        "\n",
        "    bias -= lr*i\n",
        "\n"
      ],
      "execution_count": null,
      "outputs": []
    },
    {
      "cell_type": "markdown",
      "metadata": {
        "id": "-umHPbg9PkU4"
      },
      "source": [
        "#Predictions"
      ]
    },
    {
      "cell_type": "code",
      "metadata": {
        "colab": {
          "base_uri": "https://localhost:8080/"
        },
        "id": "sSzo5es0PjwN",
        "outputId": "d2058d31-764e-445d-d25d-9961e4f90ccb"
      },
      "source": [
        "single_point = np.array([1,0])\n",
        "\n",
        "result1 = np.dot(single_point, weights) + bias\n",
        "\n",
        "result2 = sigmoid(result1)\n",
        "\n",
        "print(result2)"
      ],
      "execution_count": 49,
      "outputs": [
        {
          "output_type": "stream",
          "text": [
            "[0.979381]\n"
          ],
          "name": "stdout"
        }
      ]
    }
  ]
}